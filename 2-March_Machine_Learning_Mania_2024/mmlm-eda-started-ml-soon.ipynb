{
 "cells": [
  {
   "cell_type": "markdown",
   "id": "db0bfcac",
   "metadata": {
    "papermill": {
     "duration": 0.004196,
     "end_time": "2024-03-01T23:56:27.172685",
     "exception": false,
     "start_time": "2024-03-01T23:56:27.168489",
     "status": "completed"
    },
    "tags": []
   },
   "source": [
    "<h1> <center>🏀🏆 <b> March Machine Learning Mania 2024 🏆🏀 </b></center> </h1>\n",
    "<h2> <center>📊 EDA &amp; 📈 ML </center> </h2>\n",
    "<p><center style=\"color:#4A919E; font-family:cursive;\">by Paul Cascarino, a beginer Kaggler !</center></p>\n",
    "\n",
    "***"
   ]
  },
  {
   "cell_type": "markdown",
   "id": "90776bed",
   "metadata": {
    "papermill": {
     "duration": 0.003502,
     "end_time": "2024-03-01T23:56:27.180427",
     "exception": false,
     "start_time": "2024-03-01T23:56:27.176925",
     "status": "completed"
    },
    "tags": []
   },
   "source": [
    "<img src=\"https://www.gccs.co/wp-content/uploads/2019/11/basketball-banner-300x78.jpg\" alt=\"Basketball Banner\" style=\"width: 1500px; height: auto;\"/>\n"
   ]
  },
  {
   "cell_type": "markdown",
   "id": "d2c985cf",
   "metadata": {
    "papermill": {
     "duration": 0.003287,
     "end_time": "2024-03-01T23:56:27.187230",
     "exception": false,
     "start_time": "2024-03-01T23:56:27.183943",
     "status": "completed"
    },
    "tags": []
   },
   "source": [
    "<h1 id=\"table\"> \n",
    "    <a class=\"anchor-link\">\n",
    "        <b>Table of Contents</b>\n",
    "    </a>\n",
    "</h1>\n",
    "\n",
    "<p id=\"preparations\" style=\"font-size: 25px; line-height: 0.5; padding: 0 20px;\"> \n",
    "    <a class=\"anchor-link\" href=\"#preparations\">\n",
    "        1. Preparations\n",
    "    </a>\n",
    "</p>\n",
    "\n",
    "<p id=\"librairies\" style=\"font-size: 20px; line-height: 0.5; padding: 0 35px;\">  \n",
    "    <a class=\"anchor-link\" href=\"#librairies\">\n",
    "        1.1 - Import librairies\n",
    "    </a>\n",
    "</p>\n",
    "\n",
    "<p id=\"data\" style=\"font-size: 20px; line-height: 0.5; padding: 0 35px;\">  \n",
    "    <a class=\"anchor-link\" href=\"#data\">\n",
    "        1.2 - Import data\n",
    "    </a>\n",
    "</p>\n",
    "\n",
    "<p id=\"EDA\" style=\"font-size: 25px; line-height: 0.5; padding: 0 20px;\"> \n",
    "    <a class=\"anchor-link\" href=\"#EDA\">\n",
    "        2. Exploratory Data Analysis\n",
    "    </a>\n",
    "</p>\n",
    "\n",
    "<p id=\"eda1\" style=\"font-size: 20px; line-height: 0.5; padding: 0 35px;\">  \n",
    "    <a class=\"anchor-link\" href=\"#eda1\">\n",
    "        2.2 - Data Section 1 : The basics\n",
    "    </a>\n",
    "</p>\n",
    "\n",
    "<p id=\"eda11\" style=\"font-size: 17px; line-height: 0.5; padding: 0 50px;\">  \n",
    "    <a class=\"anchor-link\" href=\"#eda11\">\n",
    "        2.2.1 - MTeams.csv and WTeams.csv\n",
    "    </a>\n",
    "</p>\n",
    "\n",
    "<p id=\"eda12\" style=\"font-size: 17px; line-height: 0.5; padding: 0 50px;\">  \n",
    "    <a class=\"anchor-link\" href=\"#eda12\">\n",
    "        2.1.2 - MSeasons.csv and WSeasons.csv\n",
    "    </a>\n",
    "</p>\n"
   ]
  },
  {
   "cell_type": "markdown",
   "id": "9d74e273",
   "metadata": {
    "papermill": {
     "duration": 0.003342,
     "end_time": "2024-03-01T23:56:27.194024",
     "exception": false,
     "start_time": "2024-03-01T23:56:27.190682",
     "status": "completed"
    },
    "tags": []
   },
   "source": [
    "<h1 id=\"preparations\">  \n",
    "    <a class=\"anchor-link\">\n",
    "        1. Preparation\n",
    "    </a>\n",
    "</h1>"
   ]
  },
  {
   "cell_type": "markdown",
   "id": "793adce7",
   "metadata": {
    "papermill": {
     "duration": 0.003238,
     "end_time": "2024-03-01T23:56:27.200700",
     "exception": false,
     "start_time": "2024-03-01T23:56:27.197462",
     "status": "completed"
    },
    "tags": []
   },
   "source": [
    "<h2 id=\"librairies\">  \n",
    "    <a class=\"anchor-link\">\n",
    "        1.1 - Import librairies\n",
    "    </a>\n",
    "</h2>"
   ]
  },
  {
   "cell_type": "code",
   "execution_count": 74,
   "id": "42529080",
   "metadata": {
    "execution": {
     "iopub.execute_input": "2024-03-01T23:56:27.209279Z",
     "iopub.status.busy": "2024-03-01T23:56:27.208923Z",
     "iopub.status.idle": "2024-03-01T23:56:28.003043Z",
     "shell.execute_reply": "2024-03-01T23:56:28.001987Z"
    },
    "papermill": {
     "duration": 0.801578,
     "end_time": "2024-03-01T23:56:28.005732",
     "exception": false,
     "start_time": "2024-03-01T23:56:27.204154",
     "status": "completed"
    },
    "tags": []
   },
   "outputs": [],
   "source": [
    "import numpy as np\n",
    "import pandas as pd\n",
    "\n",
    "# Permit to read all the csv in the repertory data\n",
    "import glob\n",
    "\n",
    "# Permit to make graph\n",
    "import plotly.express as px\n",
    "from plotly.subplots import make_subplots\n",
    "import plotly.graph_objects as go\n",
    "px_color = px.colors.qualitative.G10    "
   ]
  },
  {
   "cell_type": "code",
   "execution_count": 75,
   "id": "ffba81c6",
   "metadata": {},
   "outputs": [
    {
     "data": {
      "text/plain": [
       "['#3366CC',\n",
       " '#DC3912',\n",
       " '#FF9900',\n",
       " '#109618',\n",
       " '#990099',\n",
       " '#0099C6',\n",
       " '#DD4477',\n",
       " '#66AA00',\n",
       " '#B82E2E',\n",
       " '#316395']"
      ]
     },
     "execution_count": 75,
     "metadata": {},
     "output_type": "execute_result"
    }
   ],
   "source": [
    "px_color"
   ]
  },
  {
   "cell_type": "code",
   "execution_count": 5,
   "id": "6f6ff6dd",
   "metadata": {},
   "outputs": [],
   "source": [
    "# permit to switch on kaggle or VSCode myself easier\n",
    "kaggle = False\n",
    "if kaggle : \n",
    "    data_path = '/kaggle/input/march-machine-learning-mania-2024'\n",
    "else : \n",
    "    data_path = 'data'"
   ]
  },
  {
   "cell_type": "markdown",
   "id": "6a9aad49",
   "metadata": {
    "papermill": {
     "duration": 0.003484,
     "end_time": "2024-03-01T23:56:28.015587",
     "exception": false,
     "start_time": "2024-03-01T23:56:28.012103",
     "status": "completed"
    },
    "tags": []
   },
   "source": [
    "<h2 id=\"data\">  \n",
    "    <a class=\"anchor-link\">\n",
    "        1.1 - Import all the data (with a function)\n",
    "    </a>\n",
    "</h2>"
   ]
  },
  {
   "cell_type": "markdown",
   "id": "33fc5585",
   "metadata": {
    "papermill": {
     "duration": 0.003324,
     "end_time": "2024-03-01T23:56:28.022681",
     "exception": false,
     "start_time": "2024-03-01T23:56:28.019357",
     "status": "completed"
    },
    "tags": []
   },
   "source": [
    "Let's earn time and import all the data with a unique function ! "
   ]
  },
  {
   "cell_type": "code",
   "execution_count": 6,
   "id": "0e571eb8",
   "metadata": {
    "execution": {
     "iopub.execute_input": "2024-03-01T23:56:28.031586Z",
     "iopub.status.busy": "2024-03-01T23:56:28.031103Z",
     "iopub.status.idle": "2024-03-01T23:56:28.037476Z",
     "shell.execute_reply": "2024-03-01T23:56:28.036719Z"
    },
    "papermill": {
     "duration": 0.013072,
     "end_time": "2024-03-01T23:56:28.039243",
     "exception": false,
     "start_time": "2024-03-01T23:56:28.026171",
     "status": "completed"
    },
    "tags": []
   },
   "outputs": [],
   "source": [
    "def csv_to_df_auto(data_path='data', kaggle = True):\n",
    "    \"\"\"\n",
    "    Read all CSV files in the specified directory and return a dictionary of DataFrames associated to their names.\n",
    "\n",
    "    Parameters :\n",
    "        - data_path (optional) : str, path to the directory containing CSV files (default is 'data')\n",
    "\n",
    "    Returns :\n",
    "        - dict: A dictionary where keys are file names and values are pandas DataFrames.\n",
    "    \"\"\"\n",
    "    csv_files = glob.glob(f'{data_path}/*.csv')\n",
    "    final_dict = {}\n",
    "                          \n",
    "    for csv_path in csv_files:\n",
    "        if kaggle : \n",
    "            df_name = csv_path.split(f'{data_path}/')[1].split('.csv')[0]\n",
    "        else : \n",
    "            df_name = csv_path.split(f'{data_path}\\\\')[1].split('.csv')[0]\n",
    "        df = pd.read_csv(csv_path, encoding='latin1')\n",
    "        final_dict[df_name] = df\n",
    "        print(f'The dataframe {df_name} has {df.shape[0]} rows, {df.shape[1]} columns, and {df.isna().sum().sum()} NA values.')\n",
    "    \n",
    "    return final_dict"
   ]
  },
  {
   "cell_type": "code",
   "execution_count": 7,
   "id": "1f248858",
   "metadata": {
    "execution": {
     "iopub.execute_input": "2024-03-01T23:56:28.048372Z",
     "iopub.status.busy": "2024-03-01T23:56:28.047498Z",
     "iopub.status.idle": "2024-03-01T23:56:32.718677Z",
     "shell.execute_reply": "2024-03-01T23:56:32.717583Z"
    },
    "papermill": {
     "duration": 4.678015,
     "end_time": "2024-03-01T23:56:32.720992",
     "exception": false,
     "start_time": "2024-03-01T23:56:28.042977",
     "status": "completed"
    },
    "tags": []
   },
   "outputs": [
    {
     "name": "stdout",
     "output_type": "stream",
     "text": [
      "The dataframe MGameCities has 79483 rows, 6 columns, and 0 NA values.\n",
      "The dataframe MMasseyOrdinals has 5166105 rows, 5 columns, and 0 NA values.\n",
      "The dataframe MNCAATourneyCompactResults has 2451 rows, 8 columns, and 0 NA values.\n",
      "The dataframe MNCAATourneyDetailedResults has 1315 rows, 34 columns, and 0 NA values.\n",
      "The dataframe MNCAATourneySeedRoundSlots has 720 rows, 5 columns, and 0 NA values.\n",
      "The dataframe MNCAATourneySeeds has 2490 rows, 3 columns, and 0 NA values.\n",
      "The dataframe MNCAATourneySlots has 2452 rows, 4 columns, and 0 NA values.\n",
      "The dataframe MRegularSeasonCompactResults has 185865 rows, 8 columns, and 0 NA values.\n",
      "The dataframe MRegularSeasonDetailedResults has 111817 rows, 34 columns, and 0 NA values.\n",
      "The dataframe MSeasons has 40 rows, 6 columns, and 0 NA values.\n",
      "The dataframe MSecondaryTourneyCompactResults has 1756 rows, 9 columns, and 0 NA values.\n",
      "The dataframe MSecondaryTourneyTeams has 1780 rows, 3 columns, and 0 NA values.\n",
      "The dataframe MTeamCoaches has 13167 rows, 5 columns, and 0 NA values.\n",
      "The dataframe MTeamConferences has 13024 rows, 3 columns, and 0 NA values.\n",
      "The dataframe MTeams has 378 rows, 4 columns, and 0 NA values.\n",
      "The dataframe MTeamSpellings has 1165 rows, 2 columns, and 0 NA values.\n",
      "The dataframe sample_submission has 126 rows, 5 columns, and 0 NA values.\n",
      "The dataframe WGameCities has 75565 rows, 6 columns, and 0 NA values.\n",
      "The dataframe WNCAATourneyCompactResults has 1583 rows, 8 columns, and 0 NA values.\n",
      "The dataframe WNCAATourneyDetailedResults has 827 rows, 34 columns, and 0 NA values.\n",
      "The dataframe WNCAATourneySeeds has 1608 rows, 3 columns, and 0 NA values.\n",
      "The dataframe WRegularSeasonCompactResults has 130235 rows, 8 columns, and 0 NA values.\n",
      "The dataframe WRegularSeasonDetailedResults has 74845 rows, 34 columns, and 0 NA values.\n",
      "The dataframe WSeasons has 27 rows, 6 columns, and 0 NA values.\n",
      "The dataframe WTeamConferences has 9128 rows, 3 columns, and 0 NA values.\n",
      "The dataframe WTeams has 376 rows, 2 columns, and 0 NA values.\n",
      "The dataframe WTeamSpellings has 1158 rows, 2 columns, and 0 NA values.\n"
     ]
    }
   ],
   "source": [
    "dict_df = csv_to_df_auto(data_path, kaggle)\n"
   ]
  },
  {
   "cell_type": "code",
   "execution_count": 8,
   "id": "de05a8b9",
   "metadata": {
    "execution": {
     "iopub.execute_input": "2024-03-01T23:56:32.731339Z",
     "iopub.status.busy": "2024-03-01T23:56:32.731008Z",
     "iopub.status.idle": "2024-03-01T23:56:32.750708Z",
     "shell.execute_reply": "2024-03-01T23:56:32.749793Z"
    },
    "papermill": {
     "duration": 0.027314,
     "end_time": "2024-03-01T23:56:32.752871",
     "exception": false,
     "start_time": "2024-03-01T23:56:32.725557",
     "status": "completed"
    },
    "tags": []
   },
   "outputs": [
    {
     "data": {
      "text/html": [
       "<div>\n",
       "<style scoped>\n",
       "    .dataframe tbody tr th:only-of-type {\n",
       "        vertical-align: middle;\n",
       "    }\n",
       "\n",
       "    .dataframe tbody tr th {\n",
       "        vertical-align: top;\n",
       "    }\n",
       "\n",
       "    .dataframe thead th {\n",
       "        text-align: right;\n",
       "    }\n",
       "</style>\n",
       "<table border=\"1\" class=\"dataframe\">\n",
       "  <thead>\n",
       "    <tr style=\"text-align: right;\">\n",
       "      <th></th>\n",
       "      <th>TeamID</th>\n",
       "      <th>TeamName</th>\n",
       "      <th>FirstD1Season</th>\n",
       "      <th>LastD1Season</th>\n",
       "    </tr>\n",
       "  </thead>\n",
       "  <tbody>\n",
       "    <tr>\n",
       "      <th>0</th>\n",
       "      <td>1101</td>\n",
       "      <td>Abilene Chr</td>\n",
       "      <td>2014</td>\n",
       "      <td>2024</td>\n",
       "    </tr>\n",
       "    <tr>\n",
       "      <th>1</th>\n",
       "      <td>1102</td>\n",
       "      <td>Air Force</td>\n",
       "      <td>1985</td>\n",
       "      <td>2024</td>\n",
       "    </tr>\n",
       "    <tr>\n",
       "      <th>2</th>\n",
       "      <td>1103</td>\n",
       "      <td>Akron</td>\n",
       "      <td>1985</td>\n",
       "      <td>2024</td>\n",
       "    </tr>\n",
       "    <tr>\n",
       "      <th>3</th>\n",
       "      <td>1104</td>\n",
       "      <td>Alabama</td>\n",
       "      <td>1985</td>\n",
       "      <td>2024</td>\n",
       "    </tr>\n",
       "    <tr>\n",
       "      <th>4</th>\n",
       "      <td>1105</td>\n",
       "      <td>Alabama A&amp;M</td>\n",
       "      <td>2000</td>\n",
       "      <td>2024</td>\n",
       "    </tr>\n",
       "    <tr>\n",
       "      <th>...</th>\n",
       "      <td>...</td>\n",
       "      <td>...</td>\n",
       "      <td>...</td>\n",
       "      <td>...</td>\n",
       "    </tr>\n",
       "    <tr>\n",
       "      <th>373</th>\n",
       "      <td>1474</td>\n",
       "      <td>Queens NC</td>\n",
       "      <td>2023</td>\n",
       "      <td>2024</td>\n",
       "    </tr>\n",
       "    <tr>\n",
       "      <th>374</th>\n",
       "      <td>1475</td>\n",
       "      <td>Southern Indiana</td>\n",
       "      <td>2023</td>\n",
       "      <td>2024</td>\n",
       "    </tr>\n",
       "    <tr>\n",
       "      <th>375</th>\n",
       "      <td>1476</td>\n",
       "      <td>Stonehill</td>\n",
       "      <td>2023</td>\n",
       "      <td>2024</td>\n",
       "    </tr>\n",
       "    <tr>\n",
       "      <th>376</th>\n",
       "      <td>1477</td>\n",
       "      <td>TX A&amp;M Commerce</td>\n",
       "      <td>2023</td>\n",
       "      <td>2024</td>\n",
       "    </tr>\n",
       "    <tr>\n",
       "      <th>377</th>\n",
       "      <td>1478</td>\n",
       "      <td>Le Moyne</td>\n",
       "      <td>2024</td>\n",
       "      <td>2024</td>\n",
       "    </tr>\n",
       "  </tbody>\n",
       "</table>\n",
       "<p>378 rows × 4 columns</p>\n",
       "</div>"
      ],
      "text/plain": [
       "     TeamID          TeamName  FirstD1Season  LastD1Season\n",
       "0      1101       Abilene Chr           2014          2024\n",
       "1      1102         Air Force           1985          2024\n",
       "2      1103             Akron           1985          2024\n",
       "3      1104           Alabama           1985          2024\n",
       "4      1105       Alabama A&M           2000          2024\n",
       "..      ...               ...            ...           ...\n",
       "373    1474         Queens NC           2023          2024\n",
       "374    1475  Southern Indiana           2023          2024\n",
       "375    1476         Stonehill           2023          2024\n",
       "376    1477   TX A&M Commerce           2023          2024\n",
       "377    1478          Le Moyne           2024          2024\n",
       "\n",
       "[378 rows x 4 columns]"
      ]
     },
     "execution_count": 8,
     "metadata": {},
     "output_type": "execute_result"
    }
   ],
   "source": [
    "dict_df['MTeams']"
   ]
  },
  {
   "cell_type": "markdown",
   "id": "36c18182",
   "metadata": {
    "papermill": {
     "duration": 0.003973,
     "end_time": "2024-03-01T23:56:32.761180",
     "exception": false,
     "start_time": "2024-03-01T23:56:32.757207",
     "status": "completed"
    },
    "tags": []
   },
   "source": [
    "<h1 id=\"EDA\">  \n",
    "    <a class=\"anchor-link\">\n",
    "        2. Exploratory Data Analysis (EDA)\n",
    "    </a>\n",
    "</h1>\n",
    "\n",
    "<h2 id=\"eda1\">  \n",
    "    <a class=\"anchor-link\">\n",
    "        2.1 - Data Section 1 : The basics\n",
    "    </a>\n",
    "</h2>\n",
    "\n",
    "<h3 id=\"eda11\">  \n",
    "    <a class=\"anchor-link\">\n",
    "        2.1.1 - MTeams.csv and WTeams.csv\n",
    "    </a>\n",
    "</h3>"
   ]
  },
  {
   "cell_type": "markdown",
   "id": "c5a92536",
   "metadata": {
    "papermill": {
     "duration": 0.00387,
     "end_time": "2024-03-01T23:56:32.769118",
     "exception": false,
     "start_time": "2024-03-01T23:56:32.765248",
     "status": "completed"
    },
    "tags": []
   },
   "source": [
    "We have thanks to these two datasets : \n",
    "\n",
    "- **TeamID** - a 4 digit id number, uniquely identifying each NCAA® men's or women's team. A school's TeamID does not change from one year to the next, so for instance the Duke men's TeamID is 1181 for all seasons. To avoid possible confusion between the men's data and the women's data, all of the men's team ID's range from 1000-1999, whereas all of the women's team ID's range from 3000-3999.\n",
    "\n",
    "- **TeamName** - a compact spelling of the team's college name, 16 characters or fewer. There are no commas or double-quotes in the team names, but you will see some characters that are not letters or spaces, e.g., Texas A&M, St Mary's CA, TAM C. Christi, and Bethune-Cookman.\n",
    "\n",
    "- **FirstD1Season** - the first season in our dataset that the school was a Division-I school. For instance, FL Gulf Coast (famously) was not a Division-I school until the 2008 season, despite their two wins just five years later in the men's 2013 NCAA® tourney. Of course, many schools were Division-I far earlier than 1985, but since we don't have any data included prior to 1985, all such teams are listed with a FirstD1Season of 1985. This column is only present in the men's data, so it is not found in WTeams.csv.\n",
    "\n",
    "- **LastD1Season** - the last season in our dataset that the school was a Division-I school. For any teams that are currently Division-I, they will be listed with LastD1Season=2024. Again, this column is only present in the men's data, so it is not found in WTeams.csv."
   ]
  },
  {
   "cell_type": "code",
   "execution_count": 9,
   "id": "557abcbb",
   "metadata": {
    "execution": {
     "iopub.execute_input": "2024-03-01T23:56:32.778932Z",
     "iopub.status.busy": "2024-03-01T23:56:32.778550Z",
     "iopub.status.idle": "2024-03-01T23:56:32.788087Z",
     "shell.execute_reply": "2024-03-01T23:56:32.787011Z"
    },
    "papermill": {
     "duration": 0.016802,
     "end_time": "2024-03-01T23:56:32.790198",
     "exception": false,
     "start_time": "2024-03-01T23:56:32.773396",
     "status": "completed"
    },
    "tags": []
   },
   "outputs": [
    {
     "name": "stdout",
     "output_type": "stream",
     "text": [
      "M_teams : \n",
      "   TeamID     TeamName  FirstD1Season  LastD1Season\n",
      "0    1101  Abilene Chr           2014          2024\n",
      "1    1102    Air Force           1985          2024\n",
      "2    1103        Akron           1985          2024\n",
      "3    1104      Alabama           1985          2024\n",
      "4    1105  Alabama A&M           2000          2024\n",
      "W_teams : \n",
      "   TeamID     TeamName\n",
      "0    3101  Abilene Chr\n",
      "1    3102    Air Force\n",
      "2    3103        Akron\n",
      "3    3104      Alabama\n",
      "4    3105  Alabama A&M\n"
     ]
    }
   ],
   "source": [
    "MTeams_df = dict_df['MTeams']\n",
    "WTeams_df = dict_df['WTeams']\n",
    "\n",
    "print('M_teams : ', MTeams_df.head(), sep = '\\n')\n",
    "print('W_teams : ', WTeams_df.head(), sep = '\\n')\n"
   ]
  },
  {
   "cell_type": "code",
   "execution_count": 10,
   "id": "80ca74bd",
   "metadata": {},
   "outputs": [
    {
     "name": "stdout",
     "output_type": "stream",
     "text": [
      "We have 378 teams of men\n",
      "We have 378 unique TeamName of men\n",
      "We have 378 unique TeamID of men\n",
      "We have 376 teams of women\n",
      "We have 376 unique TeamName of women\n",
      "We have 376 unique TeamID of women\n"
     ]
    }
   ],
   "source": [
    "print(f'We have {MTeams_df.shape[0]} teams of men')\n",
    "print(f\"We have {len(MTeams_df['TeamName'].unique())} unique TeamName of men\")\n",
    "print(f\"We have {len(MTeams_df['TeamID'].unique())} unique TeamID of men\")\n",
    "\n",
    "print(f'We have {WTeams_df.shape[0]} teams of women')\n",
    "print(f\"We have {len(WTeams_df['TeamName'].unique())} unique TeamName of women\")\n",
    "print(f\"We have {len(WTeams_df['TeamID'].unique())} unique TeamID of women\")"
   ]
  },
  {
   "cell_type": "markdown",
   "id": "da42ff33",
   "metadata": {},
   "source": [
    "We deduce that all teams are different and have unique id of our dataset"
   ]
  },
  {
   "cell_type": "code",
   "execution_count": 87,
   "id": "f1d28f2b",
   "metadata": {
    "execution": {
     "iopub.execute_input": "2024-03-01T23:56:32.800485Z",
     "iopub.status.busy": "2024-03-01T23:56:32.800156Z",
     "iopub.status.idle": "2024-03-01T23:56:32.804793Z",
     "shell.execute_reply": "2024-03-01T23:56:32.803859Z"
    },
    "papermill": {
     "duration": 0.012859,
     "end_time": "2024-03-01T23:56:32.807506",
     "exception": false,
     "start_time": "2024-03-01T23:56:32.794647",
     "status": "completed"
    },
    "tags": []
   },
   "outputs": [
    {
     "name": "stdout",
     "output_type": "stream",
     "text": [
      "Mean of the first season year : 1989.431216931217\n",
      "Mean of the last season year : 2022.989417989418\n",
      "Mean of the duration in D1 :  33.55820105820106\n"
     ]
    }
   ],
   "source": [
    "print('Mean of the first season year :', MTeams_df['FirstD1Season'].mean())\n",
    "print('Mean of the last season year :',MTeams_df['LastD1Season'].mean())\n",
    "\n",
    "duration = (MTeams_df['LastD1Season'] - MTeams_df['FirstD1Season']).mean()\n",
    "print('Mean of the duration in D1 : ', duration)\n"
   ]
  },
  {
   "cell_type": "code",
   "execution_count": 91,
   "id": "e187796b",
   "metadata": {},
   "outputs": [
    {
     "name": "stdout",
     "output_type": "stream",
     "text": [
      "    year  Count\n",
      "0   1985    282\n",
      "1  other     96\n"
     ]
    }
   ],
   "source": [
    "\n"
   ]
  },
  {
   "cell_type": "code",
   "execution_count": 131,
   "id": "e33cd9ff",
   "metadata": {},
   "outputs": [
    {
     "data": {
      "application/vnd.plotly.v1+json": {
       "config": {
        "plotlyServerURL": "https://plot.ly"
       },
       "data": [
        {
         "alignmentgroup": "True",
         "bingroup": "x",
         "hovertemplate": "FirstD1Season=%{x}<br>count=%{y}<extra></extra>",
         "legendgroup": "",
         "marker": {
          "color": "#3366CC",
          "pattern": {
           "shape": ""
          }
         },
         "name": "",
         "nbinsx": 20,
         "offsetgroup": "",
         "orientation": "v",
         "showlegend": false,
         "type": "histogram",
         "x": [
          2014,
          1985,
          1985,
          1985,
          2000,
          1985,
          2000,
          1985,
          1985,
          1985,
          1985,
          1985,
          1985,
          1985,
          1999,
          1985,
          1985,
          1987,
          1985,
          1985,
          1985,
          1985,
          1985,
          1985,
          2000,
          1985,
          2002,
          2003,
          1985,
          1985,
          1985,
          1985,
          1985,
          1985,
          1985,
          2009,
          1985,
          1992,
          1985,
          1985,
          1985,
          1995,
          1985,
          1985,
          1985,
          2007,
          1985,
          1987,
          1985,
          1985,
          1985,
          1985,
          1985,
          1985,
          1985,
          1985,
          1987,
          1992,
          1985,
          1985,
          1985,
          1985,
          1985,
          1986,
          1985,
          1985,
          2008,
          1985,
          1991,
          1992,
          1985,
          1985,
          1985,
          1985,
          1985,
          1999,
          1985,
          1985,
          1985,
          1985,
          1985,
          1985,
          1985,
          1985,
          1985,
          1985,
          1985,
          2009,
          2000,
          1985,
          1985,
          1985,
          1985,
          1994,
          2008,
          1985,
          1985,
          1988,
          1985,
          1985,
          1985,
          1985,
          1985,
          1985,
          2003,
          1985,
          1985,
          1985,
          1985,
          1985,
          1985,
          1985,
          2014,
          1996,
          1985,
          1985,
          1985,
          1985,
          2000,
          1985,
          1985,
          1985,
          1985,
          1985,
          1985,
          1985,
          1985,
          1985,
          1985,
          2014,
          1985,
          1985,
          1985,
          1985,
          1985,
          2003,
          1999,
          1985,
          1985,
          1996,
          1985,
          1985,
          1985,
          2006,
          1985,
          1985,
          1985,
          1985,
          1985,
          1985,
          1989,
          2003,
          1985,
          1985,
          2005,
          1985,
          1985,
          1985,
          1985,
          1985,
          1985,
          2014,
          1985,
          1985,
          1985,
          1985,
          1985,
          1985,
          1985,
          1985,
          1985,
          1985,
          1985,
          1986,
          1985,
          1985,
          1985,
          1985,
          1985,
          1985,
          1985,
          1990,
          1985,
          1985,
          1985,
          1985,
          1985,
          1985,
          2002,
          1985,
          1989,
          1985,
          1985,
          2005,
          2006,
          1985,
          2013,
          1985,
          1985,
          2008,
          1985,
          1991,
          2012,
          1985,
          1985,
          1985,
          1985,
          1985,
          1985,
          1985,
          1985,
          2007,
          1998,
          1985,
          2009,
          2006,
          1985,
          1985,
          1985,
          1985,
          1985,
          1985,
          1985,
          2000,
          1985,
          1985,
          1985,
          1985,
          1985,
          1985,
          1985,
          1985,
          1985,
          1985,
          1985,
          1985,
          1985,
          1985,
          1985,
          1999,
          1985,
          2008,
          1985,
          1985,
          1985,
          1999,
          1985,
          1985,
          1985,
          1985,
          1985,
          1985,
          1985,
          1985,
          2006,
          1985,
          2000,
          1987,
          1985,
          1985,
          1985,
          1986,
          1985,
          1985,
          1985,
          2003,
          2008,
          1985,
          1992,
          2009,
          1985,
          1987,
          1985,
          1985,
          1985,
          1985,
          2009,
          1985,
          1985,
          1985,
          1989,
          1985,
          1985,
          1985,
          1985,
          1985,
          1985,
          1985,
          1985,
          1985,
          1985,
          2000,
          1985,
          2003,
          1985,
          1985,
          1985,
          1985,
          1985,
          1985,
          1985,
          1985,
          1985,
          1993,
          1985,
          1985,
          1994,
          1985,
          1985,
          1985,
          1985,
          1985,
          2005,
          1985,
          2002,
          1985,
          1985,
          1985,
          1985,
          1987,
          1987,
          1992,
          1985,
          1985,
          1985,
          1985,
          1985,
          1985,
          1985,
          2005,
          1985,
          1985,
          1985,
          1985,
          1985,
          1985,
          1985,
          1985,
          1985,
          1985,
          1985,
          1985,
          1985,
          1985,
          2007,
          1985,
          1985,
          1985,
          1985,
          1985,
          1985,
          1985,
          1985,
          1991,
          1985,
          1985,
          1987,
          1985,
          1996,
          1988,
          1985,
          1985,
          1985,
          1985,
          2019,
          2019,
          2020,
          2021,
          2021,
          2021,
          2021,
          2022,
          2023,
          2023,
          2023,
          2023,
          2023,
          2024
         ],
         "xaxis": "x",
         "yaxis": "y"
        },
        {
         "alignmentgroup": "True",
         "bingroup": "x",
         "hovertemplate": "LastD1Season=%{x}<br>count=%{y}<extra></extra>",
         "legendgroup": "",
         "marker": {
          "color": "#3366CC",
          "pattern": {
           "shape": ""
          }
         },
         "name": "",
         "nbinsx": 20,
         "offsetgroup": "",
         "orientation": "v",
         "showlegend": false,
         "type": "histogram",
         "x": [
          2024,
          2024,
          2024,
          2024,
          2024,
          2024,
          2024,
          2024,
          1991,
          2024,
          2024,
          2024,
          2024,
          2024,
          2024,
          2024,
          2024,
          1987,
          2024,
          2024,
          1991,
          2024,
          2024,
          2024,
          2024,
          2024,
          2024,
          2006,
          2024,
          2024,
          2024,
          2024,
          2024,
          1992,
          2024,
          2024,
          2024,
          2024,
          2024,
          2024,
          2024,
          2024,
          2024,
          2024,
          2024,
          2024,
          2011,
          2024,
          2024,
          2024,
          2024,
          2024,
          2024,
          2024,
          2024,
          2024,
          2024,
          2024,
          2024,
          2024,
          2024,
          2024,
          2024,
          2024,
          2024,
          2024,
          2024,
          2024,
          2024,
          2024,
          2024,
          2024,
          2024,
          2024,
          2024,
          2024,
          2024,
          2024,
          2024,
          2024,
          2024,
          2024,
          2024,
          2024,
          2024,
          2024,
          2024,
          2024,
          2024,
          2024,
          2024,
          2024,
          2024,
          2024,
          2024,
          2024,
          2024,
          2024,
          2024,
          2024,
          2024,
          2024,
          2024,
          2024,
          2024,
          2024,
          2024,
          2024,
          2024,
          2024,
          2024,
          2024,
          2024,
          2024,
          1990,
          2023,
          2024,
          2024,
          2024,
          2024,
          2024,
          2024,
          2024,
          2024,
          2024,
          2024,
          2024,
          2024,
          2024,
          2024,
          2024,
          2024,
          2024,
          2024,
          2024,
          2024,
          2024,
          2024,
          2024,
          2024,
          2024,
          2024,
          2024,
          2024,
          2024,
          2024,
          2024,
          2024,
          2024,
          2024,
          2024,
          2024,
          2024,
          2024,
          2024,
          2024,
          2024,
          2024,
          2024,
          2024,
          2024,
          2024,
          2024,
          2024,
          2024,
          2024,
          2024,
          2024,
          2024,
          2024,
          2024,
          2024,
          2024,
          2024,
          2024,
          2024,
          2024,
          2024,
          2024,
          2024,
          2024,
          2024,
          2024,
          2024,
          2024,
          2024,
          2024,
          2024,
          2003,
          2024,
          2024,
          2024,
          2024,
          2024,
          2024,
          2024,
          2024,
          2024,
          2024,
          2024,
          2024,
          1998,
          2024,
          2024,
          2024,
          2024,
          2024,
          2024,
          2024,
          2024,
          2024,
          2024,
          2024,
          2024,
          2024,
          2024,
          2024,
          2024,
          2024,
          2024,
          2024,
          2024,
          2024,
          2024,
          2024,
          2024,
          1985,
          2024,
          2024,
          2024,
          2024,
          2024,
          2024,
          2024,
          2024,
          2024,
          2024,
          2024,
          2024,
          2024,
          2024,
          2024,
          2024,
          2024,
          2024,
          2024,
          2024,
          2024,
          2024,
          2024,
          2024,
          2024,
          2024,
          2024,
          2024,
          2024,
          2024,
          2024,
          2024,
          2024,
          2024,
          2024,
          2024,
          2024,
          2024,
          2019,
          2024,
          2024,
          2024,
          2024,
          2024,
          2024,
          2024,
          2024,
          2024,
          2024,
          2024,
          2024,
          2024,
          2024,
          2024,
          2024,
          2023,
          2024,
          2024,
          2024,
          2024,
          2024,
          2024,
          2024,
          2024,
          2024,
          2024,
          2024,
          2024,
          2024,
          2024,
          2024,
          2024,
          2024,
          2024,
          2024,
          2024,
          2024,
          2024,
          2024,
          2024,
          2024,
          2024,
          2024,
          2024,
          2024,
          2024,
          2024,
          2024,
          2024,
          2024,
          2024,
          2024,
          2024,
          2024,
          2024,
          2024,
          2024,
          2024,
          2024,
          2024,
          2024,
          2024,
          2024,
          2024,
          1987,
          2024,
          2024,
          2024,
          2024,
          2024,
          2024,
          2024,
          2024,
          2024,
          2024,
          2024,
          2024,
          2010,
          1986,
          2024,
          2024,
          2024,
          2024,
          2024,
          2024,
          2024,
          2024,
          2024,
          2024,
          2024,
          2024,
          2024,
          2024,
          2024,
          2024,
          2024,
          2024,
          2024,
          2024,
          2024,
          2024,
          2024,
          2024,
          2024,
          2024,
          2024,
          2024,
          2024,
          2024,
          2024,
          2024
         ],
         "xaxis": "x2",
         "yaxis": "y2"
        }
       ],
       "layout": {
        "annotations": [
         {
          "font": {
           "size": 16
          },
          "showarrow": false,
          "text": "FirstD1Season",
          "x": 0.225,
          "xanchor": "center",
          "xref": "paper",
          "y": 1,
          "yanchor": "bottom",
          "yref": "paper"
         },
         {
          "font": {
           "size": 16
          },
          "showarrow": false,
          "text": "LastD1Season",
          "x": 0.775,
          "xanchor": "center",
          "xref": "paper",
          "y": 1,
          "yanchor": "bottom",
          "yref": "paper"
         }
        ],
        "height": 500,
        "hoverlabel": {
         "bgcolor": "white",
         "font": {
          "size": 13
         }
        },
        "hovermode": "x unified",
        "showlegend": true,
        "template": {
         "data": {
          "bar": [
           {
            "error_x": {
             "color": "#2a3f5f"
            },
            "error_y": {
             "color": "#2a3f5f"
            },
            "marker": {
             "line": {
              "color": "#E5ECF6",
              "width": 0.5
             },
             "pattern": {
              "fillmode": "overlay",
              "size": 10,
              "solidity": 0.2
             }
            },
            "type": "bar"
           }
          ],
          "barpolar": [
           {
            "marker": {
             "line": {
              "color": "#E5ECF6",
              "width": 0.5
             },
             "pattern": {
              "fillmode": "overlay",
              "size": 10,
              "solidity": 0.2
             }
            },
            "type": "barpolar"
           }
          ],
          "carpet": [
           {
            "aaxis": {
             "endlinecolor": "#2a3f5f",
             "gridcolor": "white",
             "linecolor": "white",
             "minorgridcolor": "white",
             "startlinecolor": "#2a3f5f"
            },
            "baxis": {
             "endlinecolor": "#2a3f5f",
             "gridcolor": "white",
             "linecolor": "white",
             "minorgridcolor": "white",
             "startlinecolor": "#2a3f5f"
            },
            "type": "carpet"
           }
          ],
          "choropleth": [
           {
            "colorbar": {
             "outlinewidth": 0,
             "ticks": ""
            },
            "type": "choropleth"
           }
          ],
          "contour": [
           {
            "colorbar": {
             "outlinewidth": 0,
             "ticks": ""
            },
            "colorscale": [
             [
              0,
              "#0d0887"
             ],
             [
              0.1111111111111111,
              "#46039f"
             ],
             [
              0.2222222222222222,
              "#7201a8"
             ],
             [
              0.3333333333333333,
              "#9c179e"
             ],
             [
              0.4444444444444444,
              "#bd3786"
             ],
             [
              0.5555555555555556,
              "#d8576b"
             ],
             [
              0.6666666666666666,
              "#ed7953"
             ],
             [
              0.7777777777777778,
              "#fb9f3a"
             ],
             [
              0.8888888888888888,
              "#fdca26"
             ],
             [
              1,
              "#f0f921"
             ]
            ],
            "type": "contour"
           }
          ],
          "contourcarpet": [
           {
            "colorbar": {
             "outlinewidth": 0,
             "ticks": ""
            },
            "type": "contourcarpet"
           }
          ],
          "heatmap": [
           {
            "colorbar": {
             "outlinewidth": 0,
             "ticks": ""
            },
            "colorscale": [
             [
              0,
              "#0d0887"
             ],
             [
              0.1111111111111111,
              "#46039f"
             ],
             [
              0.2222222222222222,
              "#7201a8"
             ],
             [
              0.3333333333333333,
              "#9c179e"
             ],
             [
              0.4444444444444444,
              "#bd3786"
             ],
             [
              0.5555555555555556,
              "#d8576b"
             ],
             [
              0.6666666666666666,
              "#ed7953"
             ],
             [
              0.7777777777777778,
              "#fb9f3a"
             ],
             [
              0.8888888888888888,
              "#fdca26"
             ],
             [
              1,
              "#f0f921"
             ]
            ],
            "type": "heatmap"
           }
          ],
          "heatmapgl": [
           {
            "colorbar": {
             "outlinewidth": 0,
             "ticks": ""
            },
            "colorscale": [
             [
              0,
              "#0d0887"
             ],
             [
              0.1111111111111111,
              "#46039f"
             ],
             [
              0.2222222222222222,
              "#7201a8"
             ],
             [
              0.3333333333333333,
              "#9c179e"
             ],
             [
              0.4444444444444444,
              "#bd3786"
             ],
             [
              0.5555555555555556,
              "#d8576b"
             ],
             [
              0.6666666666666666,
              "#ed7953"
             ],
             [
              0.7777777777777778,
              "#fb9f3a"
             ],
             [
              0.8888888888888888,
              "#fdca26"
             ],
             [
              1,
              "#f0f921"
             ]
            ],
            "type": "heatmapgl"
           }
          ],
          "histogram": [
           {
            "marker": {
             "pattern": {
              "fillmode": "overlay",
              "size": 10,
              "solidity": 0.2
             }
            },
            "type": "histogram"
           }
          ],
          "histogram2d": [
           {
            "colorbar": {
             "outlinewidth": 0,
             "ticks": ""
            },
            "colorscale": [
             [
              0,
              "#0d0887"
             ],
             [
              0.1111111111111111,
              "#46039f"
             ],
             [
              0.2222222222222222,
              "#7201a8"
             ],
             [
              0.3333333333333333,
              "#9c179e"
             ],
             [
              0.4444444444444444,
              "#bd3786"
             ],
             [
              0.5555555555555556,
              "#d8576b"
             ],
             [
              0.6666666666666666,
              "#ed7953"
             ],
             [
              0.7777777777777778,
              "#fb9f3a"
             ],
             [
              0.8888888888888888,
              "#fdca26"
             ],
             [
              1,
              "#f0f921"
             ]
            ],
            "type": "histogram2d"
           }
          ],
          "histogram2dcontour": [
           {
            "colorbar": {
             "outlinewidth": 0,
             "ticks": ""
            },
            "colorscale": [
             [
              0,
              "#0d0887"
             ],
             [
              0.1111111111111111,
              "#46039f"
             ],
             [
              0.2222222222222222,
              "#7201a8"
             ],
             [
              0.3333333333333333,
              "#9c179e"
             ],
             [
              0.4444444444444444,
              "#bd3786"
             ],
             [
              0.5555555555555556,
              "#d8576b"
             ],
             [
              0.6666666666666666,
              "#ed7953"
             ],
             [
              0.7777777777777778,
              "#fb9f3a"
             ],
             [
              0.8888888888888888,
              "#fdca26"
             ],
             [
              1,
              "#f0f921"
             ]
            ],
            "type": "histogram2dcontour"
           }
          ],
          "mesh3d": [
           {
            "colorbar": {
             "outlinewidth": 0,
             "ticks": ""
            },
            "type": "mesh3d"
           }
          ],
          "parcoords": [
           {
            "line": {
             "colorbar": {
              "outlinewidth": 0,
              "ticks": ""
             }
            },
            "type": "parcoords"
           }
          ],
          "pie": [
           {
            "automargin": true,
            "type": "pie"
           }
          ],
          "scatter": [
           {
            "fillpattern": {
             "fillmode": "overlay",
             "size": 10,
             "solidity": 0.2
            },
            "type": "scatter"
           }
          ],
          "scatter3d": [
           {
            "line": {
             "colorbar": {
              "outlinewidth": 0,
              "ticks": ""
             }
            },
            "marker": {
             "colorbar": {
              "outlinewidth": 0,
              "ticks": ""
             }
            },
            "type": "scatter3d"
           }
          ],
          "scattercarpet": [
           {
            "marker": {
             "colorbar": {
              "outlinewidth": 0,
              "ticks": ""
             }
            },
            "type": "scattercarpet"
           }
          ],
          "scattergeo": [
           {
            "marker": {
             "colorbar": {
              "outlinewidth": 0,
              "ticks": ""
             }
            },
            "type": "scattergeo"
           }
          ],
          "scattergl": [
           {
            "marker": {
             "colorbar": {
              "outlinewidth": 0,
              "ticks": ""
             }
            },
            "type": "scattergl"
           }
          ],
          "scattermapbox": [
           {
            "marker": {
             "colorbar": {
              "outlinewidth": 0,
              "ticks": ""
             }
            },
            "type": "scattermapbox"
           }
          ],
          "scatterpolar": [
           {
            "marker": {
             "colorbar": {
              "outlinewidth": 0,
              "ticks": ""
             }
            },
            "type": "scatterpolar"
           }
          ],
          "scatterpolargl": [
           {
            "marker": {
             "colorbar": {
              "outlinewidth": 0,
              "ticks": ""
             }
            },
            "type": "scatterpolargl"
           }
          ],
          "scatterternary": [
           {
            "marker": {
             "colorbar": {
              "outlinewidth": 0,
              "ticks": ""
             }
            },
            "type": "scatterternary"
           }
          ],
          "surface": [
           {
            "colorbar": {
             "outlinewidth": 0,
             "ticks": ""
            },
            "colorscale": [
             [
              0,
              "#0d0887"
             ],
             [
              0.1111111111111111,
              "#46039f"
             ],
             [
              0.2222222222222222,
              "#7201a8"
             ],
             [
              0.3333333333333333,
              "#9c179e"
             ],
             [
              0.4444444444444444,
              "#bd3786"
             ],
             [
              0.5555555555555556,
              "#d8576b"
             ],
             [
              0.6666666666666666,
              "#ed7953"
             ],
             [
              0.7777777777777778,
              "#fb9f3a"
             ],
             [
              0.8888888888888888,
              "#fdca26"
             ],
             [
              1,
              "#f0f921"
             ]
            ],
            "type": "surface"
           }
          ],
          "table": [
           {
            "cells": {
             "fill": {
              "color": "#EBF0F8"
             },
             "line": {
              "color": "white"
             }
            },
            "header": {
             "fill": {
              "color": "#C8D4E3"
             },
             "line": {
              "color": "white"
             }
            },
            "type": "table"
           }
          ]
         },
         "layout": {
          "annotationdefaults": {
           "arrowcolor": "#2a3f5f",
           "arrowhead": 0,
           "arrowwidth": 1
          },
          "autotypenumbers": "strict",
          "coloraxis": {
           "colorbar": {
            "outlinewidth": 0,
            "ticks": ""
           }
          },
          "colorscale": {
           "diverging": [
            [
             0,
             "#8e0152"
            ],
            [
             0.1,
             "#c51b7d"
            ],
            [
             0.2,
             "#de77ae"
            ],
            [
             0.3,
             "#f1b6da"
            ],
            [
             0.4,
             "#fde0ef"
            ],
            [
             0.5,
             "#f7f7f7"
            ],
            [
             0.6,
             "#e6f5d0"
            ],
            [
             0.7,
             "#b8e186"
            ],
            [
             0.8,
             "#7fbc41"
            ],
            [
             0.9,
             "#4d9221"
            ],
            [
             1,
             "#276419"
            ]
           ],
           "sequential": [
            [
             0,
             "#0d0887"
            ],
            [
             0.1111111111111111,
             "#46039f"
            ],
            [
             0.2222222222222222,
             "#7201a8"
            ],
            [
             0.3333333333333333,
             "#9c179e"
            ],
            [
             0.4444444444444444,
             "#bd3786"
            ],
            [
             0.5555555555555556,
             "#d8576b"
            ],
            [
             0.6666666666666666,
             "#ed7953"
            ],
            [
             0.7777777777777778,
             "#fb9f3a"
            ],
            [
             0.8888888888888888,
             "#fdca26"
            ],
            [
             1,
             "#f0f921"
            ]
           ],
           "sequentialminus": [
            [
             0,
             "#0d0887"
            ],
            [
             0.1111111111111111,
             "#46039f"
            ],
            [
             0.2222222222222222,
             "#7201a8"
            ],
            [
             0.3333333333333333,
             "#9c179e"
            ],
            [
             0.4444444444444444,
             "#bd3786"
            ],
            [
             0.5555555555555556,
             "#d8576b"
            ],
            [
             0.6666666666666666,
             "#ed7953"
            ],
            [
             0.7777777777777778,
             "#fb9f3a"
            ],
            [
             0.8888888888888888,
             "#fdca26"
            ],
            [
             1,
             "#f0f921"
            ]
           ]
          },
          "colorway": [
           "#636efa",
           "#EF553B",
           "#00cc96",
           "#ab63fa",
           "#FFA15A",
           "#19d3f3",
           "#FF6692",
           "#B6E880",
           "#FF97FF",
           "#FECB52"
          ],
          "font": {
           "color": "#2a3f5f"
          },
          "geo": {
           "bgcolor": "white",
           "lakecolor": "white",
           "landcolor": "#E5ECF6",
           "showlakes": true,
           "showland": true,
           "subunitcolor": "white"
          },
          "hoverlabel": {
           "align": "left"
          },
          "hovermode": "closest",
          "mapbox": {
           "style": "light"
          },
          "paper_bgcolor": "white",
          "plot_bgcolor": "#E5ECF6",
          "polar": {
           "angularaxis": {
            "gridcolor": "white",
            "linecolor": "white",
            "ticks": ""
           },
           "bgcolor": "#E5ECF6",
           "radialaxis": {
            "gridcolor": "white",
            "linecolor": "white",
            "ticks": ""
           }
          },
          "scene": {
           "xaxis": {
            "backgroundcolor": "#E5ECF6",
            "gridcolor": "white",
            "gridwidth": 2,
            "linecolor": "white",
            "showbackground": true,
            "ticks": "",
            "zerolinecolor": "white"
           },
           "yaxis": {
            "backgroundcolor": "#E5ECF6",
            "gridcolor": "white",
            "gridwidth": 2,
            "linecolor": "white",
            "showbackground": true,
            "ticks": "",
            "zerolinecolor": "white"
           },
           "zaxis": {
            "backgroundcolor": "#E5ECF6",
            "gridcolor": "white",
            "gridwidth": 2,
            "linecolor": "white",
            "showbackground": true,
            "ticks": "",
            "zerolinecolor": "white"
           }
          },
          "shapedefaults": {
           "line": {
            "color": "#2a3f5f"
           }
          },
          "ternary": {
           "aaxis": {
            "gridcolor": "white",
            "linecolor": "white",
            "ticks": ""
           },
           "baxis": {
            "gridcolor": "white",
            "linecolor": "white",
            "ticks": ""
           },
           "bgcolor": "#E5ECF6",
           "caxis": {
            "gridcolor": "white",
            "linecolor": "white",
            "ticks": ""
           }
          },
          "title": {
           "x": 0.05
          },
          "xaxis": {
           "automargin": true,
           "gridcolor": "white",
           "linecolor": "white",
           "ticks": "",
           "title": {
            "standoff": 15
           },
           "zerolinecolor": "white",
           "zerolinewidth": 2
          },
          "yaxis": {
           "automargin": true,
           "gridcolor": "white",
           "linecolor": "white",
           "ticks": "",
           "title": {
            "standoff": 15
           },
           "zerolinecolor": "white",
           "zerolinewidth": 2
          }
         }
        },
        "title": {
         "text": "Count Plots of the year for MTeams First and Last Seasons"
        },
        "width": 900,
        "xaxis": {
         "anchor": "y",
         "domain": [
          0,
          0.45
         ],
         "title": {
          "text": "FirstD1Season"
         }
        },
        "xaxis2": {
         "anchor": "y2",
         "domain": [
          0.55,
          1
         ],
         "title": {
          "text": "LastD1Season"
         }
        },
        "xaxis3": {
         "anchor": "y3",
         "domain": [
          0,
          0.45
         ]
        },
        "xaxis4": {
         "anchor": "y4",
         "domain": [
          0.55,
          1
         ]
        },
        "yaxis": {
         "anchor": "x",
         "domain": [
          0.625,
          1
         ],
         "title": {
          "text": "Count"
         }
        },
        "yaxis2": {
         "anchor": "x2",
         "domain": [
          0.625,
          1
         ],
         "title": {
          "text": "Count"
         }
        },
        "yaxis3": {
         "anchor": "x3",
         "domain": [
          0,
          0.375
         ],
         "title": {
          "text": "Count"
         }
        },
        "yaxis4": {
         "anchor": "x4",
         "domain": [
          0,
          0.375
         ],
         "title": {
          "text": "Count"
         }
        }
       }
      }
     },
     "metadata": {},
     "output_type": "display_data"
    }
   ],
   "source": [
    "fig = make_subplots(  rows=1, \n",
    "                      cols=2, \n",
    "                      subplot_titles=(\"FirstD1Season\", \"LastD1Season\"),\n",
    ")\n",
    "\n",
    "first_season_graph = px.histogram(MTeams_df,\n",
    "                                  x='FirstD1Season',\n",
    "                                  title='FirstD1Season',\n",
    "                                  nbins=20,\n",
    "                                  color_discrete_sequence=px_color,\n",
    "                                  hover_data = ['TeamName']\n",
    "                                 )\n",
    "\n",
    "fig.add_trace(first_season_graph['data'][0], row=1, col=1)\n",
    "fig.update_xaxes(title_text='FirstD1Season', row=1, col=1)\n",
    "fig.update_yaxes(title_text='Count',  row=1, col=1)\n",
    "\n",
    "last_season_graph = px.histogram(MTeams_df,\n",
    "                                  x='LastD1Season',\n",
    "                                  title='LastD1Season',\n",
    "                                  nbins=20,\n",
    "                                  color_discrete_sequence=px_color,\n",
    "                                  hover_data = ['TeamName']\n",
    "                                 )\n",
    "\n",
    "fig.add_trace(last_season_graph['data'][0], row=1, col=2)\n",
    "fig.update_xaxes(title_text='LastD1Season', row=1, col=2)\n",
    "fig.update_yaxes(title_text='Count')\n",
    "\n",
    "\n",
    "fig.update_layout(height=500, \n",
    "                    width=900, \n",
    "                    title_text='Count Plots of the year for MTeams First and Last Seasons', \n",
    "                    showlegend=True,\n",
    "                    hoverlabel=dict(\n",
    "                            bgcolor=\"white\",\n",
    "                            font_size=13,\n",
    "                        ),\n",
    "                    hovermode=\"x unified\"\n",
    "                  )\n",
    "\n",
    "\n",
    "fig.show()"
   ]
  },
  {
   "cell_type": "markdown",
   "id": "f2b44060",
   "metadata": {},
   "source": [
    "We can see that the big majority of the First and Last Season on grouped on the first and last data available : "
   ]
  },
  {
   "cell_type": "markdown",
   "id": "d59ca2e1",
   "metadata": {},
   "source": [
    "<h3 id=\"eda12\">  \n",
    "    <a class=\"anchor-link\">\n",
    "        2.1.2 - MSeasons.csv and WSeasons.csv\n",
    "    </a>\n",
    "</h3>"
   ]
  },
  {
   "cell_type": "markdown",
   "id": "98c6abcc",
   "metadata": {},
   "source": [
    "We have thanks to these two datasets : \n",
    "\n",
    "**Season** - indicates the year in which the tournament was played. Remember that the current season counts as 2024.\n",
    "\n",
    "**DayZero** - tells you the date corresponding to DayNum=0 during that season. All game dates have been aligned upon a common scale so that (each year) the Monday championship game of the men's tournament is on DayNum=154. Working backward, the men's national semifinals are always on DayNum=152, the \"play-in\" games are on days 134-135, men's Selection Sunday is on day 132, the final day of the regular season is also day 132, and so on. All game data includes the day number in order to make it easier to perform date calculations. If you need to know the exact date a game was played on, you can combine the game's \"DayNum\" with the season's \"DayZero\". For instance, since day zero during the 2011-2012 season was 10/31/2011, if we know that the earliest regular season games that year were played on DayNum=7, they were therefore played on 11/07/2011. Also note that the men's and women's data share the same DayZero each season, although the women's championship game is not necessarily played on DayNum=154\n",
    "\n",
    "**RegionW, RegionX, Region Y, Region Z** - by our competitions' convention, each of the four regions in the final tournament is assigned a letter of W, X, Y, or Z. Whichever region's name comes first alphabetically, that region will be Region W. And whichever Region plays against Region W in the national semifinals, that will be Region X. For the other two regions, whichever region's name comes first alphabetically, that region will be Region Y, and the other will be Region Z. This allows us to identify the regions and brackets in a standardized way in other files, even if the region names change from year to year. For instance, during the 2012 men's tournament, the four regions were East, Midwest, South, and West. Being the first alphabetically, East becomes W. Since the East regional champion (Ohio State) played against the Midwest regional champion (Kansas) in the national semifinals, that makes Midwest be region X. For the other two (South and West), since South comes first alphabetically, that makes South Y and therefore West is Z. So for that season, the W/X/Y/Z are East,Midwest,South,West. And so for instance, Ohio State, the #2 seed in the East, is listed in the MNCAATourneySeeds file that year with a seed of W02, meaning they were the #2 seed in the W region (the East region). We will not know the final W/X/Y/Z designations until the brackets are announced on Selection Sunday, because the national semifinal pairings in the Final Four will depend upon the overall ranks of the four #1 seeds."
   ]
  },
  {
   "cell_type": "code",
   "execution_count": 127,
   "id": "00f0dbc3",
   "metadata": {},
   "outputs": [
    {
     "name": "stdout",
     "output_type": "stream",
     "text": [
      "MSeasons : \n",
      "   Season     DayZero RegionW    RegionX    RegionY    RegionZ\n",
      "0    1985  10/29/1984    East       West    Midwest  Southeast\n",
      "1    1986  10/28/1985    East    Midwest  Southeast       West\n",
      "2    1987  10/27/1986    East  Southeast    Midwest       West\n",
      "3    1988   11/2/1987    East    Midwest  Southeast       West\n",
      "4    1989  10/31/1988    East       West    Midwest  Southeast\n",
      "WSeasons : \n",
      "   Season     DayZero RegionW  RegionX  RegionY  RegionZ\n",
      "0    1998  10/27/1997    East  Midwest  Mideast     West\n",
      "1    1999  10/26/1998    East  Mideast  Midwest     West\n",
      "2    2000   11/1/1999    East  Midwest  Mideast     West\n",
      "3    2001  10/30/2000    East  Midwest  Mideast     West\n",
      "4    2002  10/29/2001    East     West  Mideast  Midwest\n"
     ]
    }
   ],
   "source": [
    "MSeasons_df = dict_df['MSeasons']\n",
    "WSeasons_df = dict_df['WSeasons']\n",
    "\n",
    "print('MSeasons : ', MSeasons_df.head(), sep = '\\n')\n",
    "print('WSeasons : ', WSeasons_df.head(), sep = '\\n')\n"
   ]
  },
  {
   "cell_type": "code",
   "execution_count": 130,
   "id": "de09b9d6",
   "metadata": {},
   "outputs": [
    {
     "data": {
      "text/plain": [
       "(40, 6)"
      ]
     },
     "execution_count": 130,
     "metadata": {},
     "output_type": "execute_result"
    }
   ],
   "source": [
    "MSeasons_df.shape\n",
    "MSeasons_df.shape"
   ]
  }
 ],
 "metadata": {
  "kaggle": {
   "accelerator": "none",
   "dataSources": [
    {
     "databundleVersionId": 7806758,
     "sourceId": 70068,
     "sourceType": "competition"
    }
   ],
   "dockerImageVersionId": 30664,
   "isGpuEnabled": false,
   "isInternetEnabled": true,
   "language": "python",
   "sourceType": "notebook"
  },
  "kernelspec": {
   "display_name": "Python 3",
   "language": "python",
   "name": "python3"
  },
  "language_info": {
   "codemirror_mode": {
    "name": "ipython",
    "version": 3
   },
   "file_extension": ".py",
   "mimetype": "text/x-python",
   "name": "python",
   "nbconvert_exporter": "python",
   "pygments_lexer": "ipython3",
   "version": "3.11.5"
  },
  "papermill": {
   "default_parameters": {},
   "duration": 8.652508,
   "end_time": "2024-03-01T23:56:33.230428",
   "environment_variables": {},
   "exception": null,
   "input_path": "__notebook__.ipynb",
   "output_path": "__notebook__.ipynb",
   "parameters": {},
   "start_time": "2024-03-01T23:56:24.577920",
   "version": "2.5.0"
  }
 },
 "nbformat": 4,
 "nbformat_minor": 5
}
